{
  "cells": [
    {
      "cell_type": "code",
      "execution_count": null,
      "metadata": {
        "vscode": {
          "languageId": "plaintext"
        }
      },
      "outputs": [],
      "source": [
        "# MFC Voltage Prediction using Machine Learning\n",
        "\n",
        "## Interactive Analysis and Model Development\n",
        "\n",
        "This notebook provides an interactive environment for analyzing MFC experimental data and developing voltage prediction models.\n",
        "\n",
        "**Objective**: Predict MFC performance after 24 hours instead of waiting 200+ hours for complete experiments.\n",
        "\n",
        "**Academic Value**: Novel application of ML to bioelectrochemical systems for practical engineering optimization.\n"
      ]
    },
    {
      "cell_type": "code",
      "execution_count": null,
      "metadata": {},
      "outputs": [],
      "source": [
        "# Import required libraries\n",
        "import sys\n",
        "sys.path.append('../src')\n",
        "\n",
        "import pandas as pd\n",
        "import numpy as np\n",
        "import matplotlib.pyplot as plt\n",
        "import seaborn as sns\n",
        "from pathlib import Path\n",
        "import warnings\n",
        "warnings.filterwarnings('ignore')\n",
        "\n",
        "# Import our custom modules\n",
        "from data_preparation import MFCDataProcessor\n",
        "from voltage_prediction_model import MFCVoltagePredictor\n",
        "from prediction_application import MFCPredictionApp\n",
        "\n",
        "# Set plotting style\n",
        "plt.style.use('default')\n",
        "sns.set_palette(\"husl\")\n",
        "\n",
        "print(\"✓ Libraries imported successfully\")\n",
        "print(\"✓ Ready for MFC voltage prediction analysis\")\n"
      ]
    }
  ],
  "metadata": {
    "language_info": {
      "name": "python"
    }
  },
  "nbformat": 4,
  "nbformat_minor": 2
}
